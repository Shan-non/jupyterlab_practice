{
 "cells": [
  {
   "cell_type": "markdown",
   "id": "cb579998-3fef-4563-bd57-b51ccfa4c899",
   "metadata": {},
   "source": [
    "# Notebook for Assignment 7\n",
    "Shannon Pflueger. Assignment 7 notebook for DataScience Toolbox course."
   ]
  },
  {
   "cell_type": "code",
   "execution_count": 1,
   "id": "1a9f3a13-c4a1-465b-b8ea-fd920d6125cd",
   "metadata": {},
   "outputs": [
    {
     "name": "stdout",
     "output_type": "stream",
     "text": [
      "5.0\n"
     ]
    }
   ],
   "source": [
    "def compute_mean(list):\n",
    "    \"\"\"\n",
    "    computes the mean of a list of numbers\n",
    "    \n",
    "    Inputs\n",
    "    ---------\n",
    "    list: a list of numbers\n",
    "    \n",
    "    Returns\n",
    "    ----------\n",
    "    the mean of the list\n",
    "    \n",
    "    Example\n",
    "    ----------\n",
    "    compute_mean([1, 2, 3])\n",
    "    >>> 2.0\n",
    "    \"\"\"\n",
    "    total = sum(list)\n",
    "    mean = total / len(list)\n",
    "    \n",
    "    return mean\n",
    "\n",
    "numbers = [2, 4, 6, 8]\n",
    "print(compute_mean(numbers))     "
   ]
  },
  {
   "cell_type": "markdown",
   "id": "ea94c3ad-37fb-41d2-9a83-b8c1e63e369c",
   "metadata": {},
   "source": [
    "The compute_mean function above sums a list of numbers and divides by the length of the list; in summary it calculates the mean of a list of numbers.\n",
    "\n",
    "$$\n",
    "\\bar{x} = \\frac{x_{1} + x_{2} + ... + x_{n}}{n} =\\frac{1}{n}\\left(\\sum_{i=1}^{n} x_i\\right)\n",
    "$$"
   ]
  }
 ],
 "metadata": {
  "kernelspec": {
   "display_name": "Python [conda env:new_env]",
   "language": "python",
   "name": "conda-env-new_env-py"
  },
  "language_info": {
   "codemirror_mode": {
    "name": "ipython",
    "version": 3
   },
   "file_extension": ".py",
   "mimetype": "text/x-python",
   "name": "python",
   "nbconvert_exporter": "python",
   "pygments_lexer": "ipython3",
   "version": "3.11.3"
  }
 },
 "nbformat": 4,
 "nbformat_minor": 5
}
